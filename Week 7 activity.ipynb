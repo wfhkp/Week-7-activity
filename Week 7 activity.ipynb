{
 "cells": [
  {
   "cell_type": "code",
   "execution_count": 1,
   "id": "8c6df5ef",
   "metadata": {},
   "outputs": [],
   "source": [
    "import numpy as np\n",
    "import pandas as pd\n",
    "import matplotlib.pyplot as plt\n",
    "import seaborn as sns"
   ]
  },
  {
   "cell_type": "code",
   "execution_count": 2,
   "id": "4d5f73ce",
   "metadata": {},
   "outputs": [],
   "source": [
    "data=pd.read_csv('Week_7_Activity_data.csv')"
   ]
  },
  {
   "cell_type": "code",
   "execution_count": 3,
   "id": "85091f26",
   "metadata": {},
   "outputs": [
    {
     "data": {
      "text/html": [
       "<div>\n",
       "<style scoped>\n",
       "    .dataframe tbody tr th:only-of-type {\n",
       "        vertical-align: middle;\n",
       "    }\n",
       "\n",
       "    .dataframe tbody tr th {\n",
       "        vertical-align: top;\n",
       "    }\n",
       "\n",
       "    .dataframe thead th {\n",
       "        text-align: right;\n",
       "    }\n",
       "</style>\n",
       "<table border=\"1\" class=\"dataframe\">\n",
       "  <thead>\n",
       "    <tr style=\"text-align: right;\">\n",
       "      <th></th>\n",
       "      <th>ph</th>\n",
       "      <th>Hardness</th>\n",
       "      <th>Solids</th>\n",
       "      <th>Chloramines</th>\n",
       "      <th>Sulfate</th>\n",
       "      <th>Conductivity</th>\n",
       "      <th>Organic_carbon</th>\n",
       "      <th>Trihalomethanes</th>\n",
       "      <th>Turbidity</th>\n",
       "    </tr>\n",
       "  </thead>\n",
       "  <tbody>\n",
       "    <tr>\n",
       "      <th>0</th>\n",
       "      <td>8.316766</td>\n",
       "      <td>214.373394</td>\n",
       "      <td>22018.41744</td>\n",
       "      <td>8.059332</td>\n",
       "      <td>356.886136</td>\n",
       "      <td>363.266516</td>\n",
       "      <td>18.436525</td>\n",
       "      <td>100.341674</td>\n",
       "      <td>4.628771</td>\n",
       "    </tr>\n",
       "    <tr>\n",
       "      <th>1</th>\n",
       "      <td>9.092223</td>\n",
       "      <td>181.101509</td>\n",
       "      <td>17978.98634</td>\n",
       "      <td>6.546600</td>\n",
       "      <td>310.135738</td>\n",
       "      <td>398.410813</td>\n",
       "      <td>11.558279</td>\n",
       "      <td>31.997993</td>\n",
       "      <td>4.075075</td>\n",
       "    </tr>\n",
       "    <tr>\n",
       "      <th>2</th>\n",
       "      <td>5.584087</td>\n",
       "      <td>188.313324</td>\n",
       "      <td>28748.68774</td>\n",
       "      <td>7.544869</td>\n",
       "      <td>326.678363</td>\n",
       "      <td>280.467916</td>\n",
       "      <td>8.399735</td>\n",
       "      <td>54.917862</td>\n",
       "      <td>2.559708</td>\n",
       "    </tr>\n",
       "    <tr>\n",
       "      <th>3</th>\n",
       "      <td>10.223862</td>\n",
       "      <td>248.071735</td>\n",
       "      <td>28749.71654</td>\n",
       "      <td>7.513408</td>\n",
       "      <td>393.663395</td>\n",
       "      <td>283.651634</td>\n",
       "      <td>13.789695</td>\n",
       "      <td>84.603556</td>\n",
       "      <td>2.672989</td>\n",
       "    </tr>\n",
       "    <tr>\n",
       "      <th>4</th>\n",
       "      <td>8.635849</td>\n",
       "      <td>203.361523</td>\n",
       "      <td>13672.09176</td>\n",
       "      <td>4.563009</td>\n",
       "      <td>303.309771</td>\n",
       "      <td>474.607645</td>\n",
       "      <td>12.363817</td>\n",
       "      <td>62.798309</td>\n",
       "      <td>4.401425</td>\n",
       "    </tr>\n",
       "  </tbody>\n",
       "</table>\n",
       "</div>"
      ],
      "text/plain": [
       "          ph    Hardness       Solids  Chloramines     Sulfate  Conductivity  \\\n",
       "0   8.316766  214.373394  22018.41744     8.059332  356.886136    363.266516   \n",
       "1   9.092223  181.101509  17978.98634     6.546600  310.135738    398.410813   \n",
       "2   5.584087  188.313324  28748.68774     7.544869  326.678363    280.467916   \n",
       "3  10.223862  248.071735  28749.71654     7.513408  393.663395    283.651634   \n",
       "4   8.635849  203.361523  13672.09176     4.563009  303.309771    474.607645   \n",
       "\n",
       "   Organic_carbon  Trihalomethanes  Turbidity  \n",
       "0       18.436525       100.341674   4.628771  \n",
       "1       11.558279        31.997993   4.075075  \n",
       "2        8.399735        54.917862   2.559708  \n",
       "3       13.789695        84.603556   2.672989  \n",
       "4       12.363817        62.798309   4.401425  "
      ]
     },
     "execution_count": 3,
     "metadata": {},
     "output_type": "execute_result"
    }
   ],
   "source": [
    "data.head()"
   ]
  },
  {
   "cell_type": "markdown",
   "id": "daa89996",
   "metadata": {},
   "source": [
    "1.Check null values"
   ]
  },
  {
   "cell_type": "code",
   "execution_count": 4,
   "id": "9ad2bdc7",
   "metadata": {},
   "outputs": [
    {
     "data": {
      "text/plain": [
       "ph                 0\n",
       "Hardness           0\n",
       "Solids             0\n",
       "Chloramines        0\n",
       "Sulfate            0\n",
       "Conductivity       0\n",
       "Organic_carbon     0\n",
       "Trihalomethanes    0\n",
       "Turbidity          0\n",
       "dtype: int64"
      ]
     },
     "execution_count": 4,
     "metadata": {},
     "output_type": "execute_result"
    }
   ],
   "source": [
    "data.isna().sum()"
   ]
  },
  {
   "cell_type": "markdown",
   "id": "bdd830ec",
   "metadata": {},
   "source": [
    "This indicates that there is no missing values in each column"
   ]
  },
  {
   "cell_type": "markdown",
   "id": "5f5c57b9",
   "metadata": {},
   "source": [
    "2. Examine the variables ‘Hardness’, ‘Sulfate’, and ‘Organic_carbon’ and\n",
    "   comment on your observations."
   ]
  },
  {
   "cell_type": "code",
   "execution_count": 5,
   "id": "88333cd0",
   "metadata": {},
   "outputs": [
    {
     "data": {
      "text/html": [
       "<div>\n",
       "<style scoped>\n",
       "    .dataframe tbody tr th:only-of-type {\n",
       "        vertical-align: middle;\n",
       "    }\n",
       "\n",
       "    .dataframe tbody tr th {\n",
       "        vertical-align: top;\n",
       "    }\n",
       "\n",
       "    .dataframe thead th {\n",
       "        text-align: right;\n",
       "    }\n",
       "</style>\n",
       "<table border=\"1\" class=\"dataframe\">\n",
       "  <thead>\n",
       "    <tr style=\"text-align: right;\">\n",
       "      <th></th>\n",
       "      <th>ph</th>\n",
       "      <th>Hardness</th>\n",
       "      <th>Solids</th>\n",
       "      <th>Chloramines</th>\n",
       "      <th>Sulfate</th>\n",
       "      <th>Conductivity</th>\n",
       "      <th>Organic_carbon</th>\n",
       "      <th>Trihalomethanes</th>\n",
       "      <th>Turbidity</th>\n",
       "    </tr>\n",
       "  </thead>\n",
       "  <tbody>\n",
       "    <tr>\n",
       "      <th>count</th>\n",
       "      <td>2011.000000</td>\n",
       "      <td>2011.000000</td>\n",
       "      <td>2011.000000</td>\n",
       "      <td>2011.000000</td>\n",
       "      <td>2011.000000</td>\n",
       "      <td>2011.000000</td>\n",
       "      <td>2011.000000</td>\n",
       "      <td>2011.000000</td>\n",
       "      <td>2011.000000</td>\n",
       "    </tr>\n",
       "    <tr>\n",
       "      <th>mean</th>\n",
       "      <td>7.085990</td>\n",
       "      <td>195.968072</td>\n",
       "      <td>21917.441375</td>\n",
       "      <td>7.134338</td>\n",
       "      <td>333.224672</td>\n",
       "      <td>426.526409</td>\n",
       "      <td>14.357709</td>\n",
       "      <td>66.400859</td>\n",
       "      <td>3.969729</td>\n",
       "    </tr>\n",
       "    <tr>\n",
       "      <th>std</th>\n",
       "      <td>1.573337</td>\n",
       "      <td>32.635085</td>\n",
       "      <td>8642.239815</td>\n",
       "      <td>1.584820</td>\n",
       "      <td>41.205172</td>\n",
       "      <td>80.712572</td>\n",
       "      <td>3.324959</td>\n",
       "      <td>16.077109</td>\n",
       "      <td>0.780346</td>\n",
       "    </tr>\n",
       "    <tr>\n",
       "      <th>min</th>\n",
       "      <td>0.227499</td>\n",
       "      <td>73.492234</td>\n",
       "      <td>320.942611</td>\n",
       "      <td>1.390871</td>\n",
       "      <td>129.000000</td>\n",
       "      <td>201.619737</td>\n",
       "      <td>2.200000</td>\n",
       "      <td>8.577013</td>\n",
       "      <td>1.450000</td>\n",
       "    </tr>\n",
       "    <tr>\n",
       "      <th>25%</th>\n",
       "      <td>6.089723</td>\n",
       "      <td>176.744938</td>\n",
       "      <td>15615.665390</td>\n",
       "      <td>6.138895</td>\n",
       "      <td>307.632511</td>\n",
       "      <td>366.680307</td>\n",
       "      <td>12.124105</td>\n",
       "      <td>55.952664</td>\n",
       "      <td>3.442915</td>\n",
       "    </tr>\n",
       "    <tr>\n",
       "      <th>50%</th>\n",
       "      <td>7.027297</td>\n",
       "      <td>197.191839</td>\n",
       "      <td>20933.512750</td>\n",
       "      <td>7.143907</td>\n",
       "      <td>332.232177</td>\n",
       "      <td>423.455906</td>\n",
       "      <td>14.322019</td>\n",
       "      <td>66.542198</td>\n",
       "      <td>3.968177</td>\n",
       "    </tr>\n",
       "    <tr>\n",
       "      <th>75%</th>\n",
       "      <td>8.052969</td>\n",
       "      <td>216.441070</td>\n",
       "      <td>27182.587065</td>\n",
       "      <td>8.109726</td>\n",
       "      <td>359.330555</td>\n",
       "      <td>482.373169</td>\n",
       "      <td>16.683049</td>\n",
       "      <td>77.291925</td>\n",
       "      <td>4.514175</td>\n",
       "    </tr>\n",
       "    <tr>\n",
       "      <th>max</th>\n",
       "      <td>14.000000</td>\n",
       "      <td>317.338124</td>\n",
       "      <td>56488.672410</td>\n",
       "      <td>13.127000</td>\n",
       "      <td>481.030642</td>\n",
       "      <td>753.342620</td>\n",
       "      <td>27.006707</td>\n",
       "      <td>124.000000</td>\n",
       "      <td>6.494749</td>\n",
       "    </tr>\n",
       "  </tbody>\n",
       "</table>\n",
       "</div>"
      ],
      "text/plain": [
       "                ph     Hardness        Solids  Chloramines      Sulfate  \\\n",
       "count  2011.000000  2011.000000   2011.000000  2011.000000  2011.000000   \n",
       "mean      7.085990   195.968072  21917.441375     7.134338   333.224672   \n",
       "std       1.573337    32.635085   8642.239815     1.584820    41.205172   \n",
       "min       0.227499    73.492234    320.942611     1.390871   129.000000   \n",
       "25%       6.089723   176.744938  15615.665390     6.138895   307.632511   \n",
       "50%       7.027297   197.191839  20933.512750     7.143907   332.232177   \n",
       "75%       8.052969   216.441070  27182.587065     8.109726   359.330555   \n",
       "max      14.000000   317.338124  56488.672410    13.127000   481.030642   \n",
       "\n",
       "       Conductivity  Organic_carbon  Trihalomethanes    Turbidity  \n",
       "count   2011.000000     2011.000000      2011.000000  2011.000000  \n",
       "mean     426.526409       14.357709        66.400859     3.969729  \n",
       "std       80.712572        3.324959        16.077109     0.780346  \n",
       "min      201.619737        2.200000         8.577013     1.450000  \n",
       "25%      366.680307       12.124105        55.952664     3.442915  \n",
       "50%      423.455906       14.322019        66.542198     3.968177  \n",
       "75%      482.373169       16.683049        77.291925     4.514175  \n",
       "max      753.342620       27.006707       124.000000     6.494749  "
      ]
     },
     "execution_count": 5,
     "metadata": {},
     "output_type": "execute_result"
    }
   ],
   "source": [
    "data.describe()"
   ]
  },
  {
   "cell_type": "markdown",
   "id": "94fab0e7",
   "metadata": {},
   "source": [
    "While describing the data we can see that the mean of turbidity is very less than the mean of other varibles present in the data"
   ]
  },
  {
   "cell_type": "markdown",
   "id": "2661f82f",
   "metadata": {},
   "source": [
    "3.Examine the variables ‘Hardness’, ‘Sulfate’, and ‘Organic_carbon’."
   ]
  },
  {
   "cell_type": "code",
   "execution_count": 6,
   "id": "31c29d08",
   "metadata": {},
   "outputs": [
    {
     "data": {
      "text/plain": [
       "<AxesSubplot:ylabel='Frequency'>"
      ]
     },
     "execution_count": 6,
     "metadata": {},
     "output_type": "execute_result"
    },
    {
     "data": {
      "text/plain": [
       "<Figure size 576x576 with 0 Axes>"
      ]
     },
     "metadata": {},
     "output_type": "display_data"
    },
    {
     "data": {
      "image/png": "[encoded data removed]",
      "text/plain": [
       "<Figure size 432x288 with 1 Axes>"
      ]
     },
     "metadata": {
      "needs_background": "light"
     },
     "output_type": "display_data"
    }
   ],
   "source": [
    "plt.figure(figsize=(8,8))\n",
    "data[['Hardness','Sulfate','Organic_carbon']].plot.hist()"
   ]
  },
  {
   "cell_type": "code",
   "execution_count": null,
   "id": "e99c7292",
   "metadata": {},
   "outputs": [],
   "source": [
    "From the above histogram it is clear that the varibles such as Hardness,Sulfate and Organic carbon of the data \n",
    "are distributed in the  range from 0 to 500 and 'hardness' is the most frequent variable in our data while comparing \n",
    "with the other two."
   ]
  },
  {
   "cell_type": "code",
   "execution_count": 7,
   "id": "265453c9",
   "metadata": {},
   "outputs": [
    {
     "data": {
      "image/png": "[encoded data removed]",
      "text/plain": [
       "<Figure size 1440x1080 with 9 Axes>"
      ]
     },
     "metadata": {
      "needs_background": "light"
     },
     "output_type": "display_data"
    }
   ],
   "source": [
    "freqgraph=data.select_dtypes(include=['int32','int64','float'])\n",
    "freqgraph.hist(figsize=(20,15))\n",
    "plt.show()"
   ]
  },
  {
   "cell_type": "markdown",
   "id": "ed830598",
   "metadata": {},
   "source": [
    "From the histogram it is clear that most of the varible present in the data are normally distributed and\n",
    "some of them are skewed positively as well as negatively."
   ]
  },
  {
   "cell_type": "markdown",
   "id": "26321582",
   "metadata": {},
   "source": [
    "4.Correlation analysis: ph and Chloramines"
   ]
  },
  {
   "cell_type": "code",
   "execution_count": 39,
   "id": "54f562af",
   "metadata": {},
   "outputs": [
    {
     "data": {
      "text/plain": [
       "<AxesSubplot:>"
      ]
     },
     "execution_count": 39,
     "metadata": {},
     "output_type": "execute_result"
    },
    {
     "data": {
      "image/png": "[encoded data removed]",
      "text/plain": [
       "<Figure size 720x576 with 2 Axes>"
      ]
     },
     "metadata": {
      "needs_background": "light"
     },
     "output_type": "display_data"
    }
   ],
   "source": [
    "corrmatrix=data.corr()\n",
    "plt.subplots(figsize=(10,8))\n",
    "sns.heatmap(corrmatrix,vmin=-0.005,vmax=1,annot=True,linewidth=0.2)"
   ]
  },
  {
   "cell_type": "markdown",
   "id": "32d4f4d1",
   "metadata": {},
   "source": [
    "The features of the data possess low positive correlation as well as low negative correlation."
   ]
  },
  {
   "cell_type": "code",
   "execution_count": 10,
   "id": "7a77761a",
   "metadata": {},
   "outputs": [
    {
     "data": {
      "text/html": [
       "<div>\n",
       "<style scoped>\n",
       "    .dataframe tbody tr th:only-of-type {\n",
       "        vertical-align: middle;\n",
       "    }\n",
       "\n",
       "    .dataframe tbody tr th {\n",
       "        vertical-align: top;\n",
       "    }\n",
       "\n",
       "    .dataframe thead th {\n",
       "        text-align: right;\n",
       "    }\n",
       "</style>\n",
       "<table border=\"1\" class=\"dataframe\">\n",
       "  <thead>\n",
       "    <tr style=\"text-align: right;\">\n",
       "      <th></th>\n",
       "      <th>ph</th>\n",
       "      <th>Hardness</th>\n",
       "      <th>Solids</th>\n",
       "      <th>Chloramines</th>\n",
       "      <th>Sulfate</th>\n",
       "      <th>Conductivity</th>\n",
       "      <th>Organic_carbon</th>\n",
       "      <th>Trihalomethanes</th>\n",
       "      <th>Turbidity</th>\n",
       "    </tr>\n",
       "  </thead>\n",
       "  <tbody>\n",
       "    <tr>\n",
       "      <th>ph</th>\n",
       "      <td>1.000000</td>\n",
       "      <td>0.108948</td>\n",
       "      <td>-0.087615</td>\n",
       "      <td>-0.024768</td>\n",
       "      <td>0.010524</td>\n",
       "      <td>0.014128</td>\n",
       "      <td>0.028375</td>\n",
       "      <td>0.018278</td>\n",
       "      <td>-0.035849</td>\n",
       "    </tr>\n",
       "    <tr>\n",
       "      <th>Hardness</th>\n",
       "      <td>0.108948</td>\n",
       "      <td>1.000000</td>\n",
       "      <td>-0.053269</td>\n",
       "      <td>-0.022685</td>\n",
       "      <td>-0.108521</td>\n",
       "      <td>0.011731</td>\n",
       "      <td>0.013224</td>\n",
       "      <td>-0.015400</td>\n",
       "      <td>-0.034831</td>\n",
       "    </tr>\n",
       "    <tr>\n",
       "      <th>Solids</th>\n",
       "      <td>-0.087615</td>\n",
       "      <td>-0.053269</td>\n",
       "      <td>1.000000</td>\n",
       "      <td>-0.051789</td>\n",
       "      <td>-0.162769</td>\n",
       "      <td>-0.005198</td>\n",
       "      <td>-0.005484</td>\n",
       "      <td>-0.015668</td>\n",
       "      <td>0.019409</td>\n",
       "    </tr>\n",
       "    <tr>\n",
       "      <th>Chloramines</th>\n",
       "      <td>-0.024768</td>\n",
       "      <td>-0.022685</td>\n",
       "      <td>-0.051789</td>\n",
       "      <td>1.000000</td>\n",
       "      <td>0.006254</td>\n",
       "      <td>-0.028277</td>\n",
       "      <td>-0.023808</td>\n",
       "      <td>0.014990</td>\n",
       "      <td>0.013137</td>\n",
       "    </tr>\n",
       "    <tr>\n",
       "      <th>Sulfate</th>\n",
       "      <td>0.010524</td>\n",
       "      <td>-0.108521</td>\n",
       "      <td>-0.162769</td>\n",
       "      <td>0.006254</td>\n",
       "      <td>1.000000</td>\n",
       "      <td>-0.016192</td>\n",
       "      <td>0.026776</td>\n",
       "      <td>-0.023347</td>\n",
       "      <td>-0.009934</td>\n",
       "    </tr>\n",
       "    <tr>\n",
       "      <th>Conductivity</th>\n",
       "      <td>0.014128</td>\n",
       "      <td>0.011731</td>\n",
       "      <td>-0.005198</td>\n",
       "      <td>-0.028277</td>\n",
       "      <td>-0.016192</td>\n",
       "      <td>1.000000</td>\n",
       "      <td>0.015647</td>\n",
       "      <td>0.004888</td>\n",
       "      <td>0.012495</td>\n",
       "    </tr>\n",
       "    <tr>\n",
       "      <th>Organic_carbon</th>\n",
       "      <td>0.028375</td>\n",
       "      <td>0.013224</td>\n",
       "      <td>-0.005484</td>\n",
       "      <td>-0.023808</td>\n",
       "      <td>0.026776</td>\n",
       "      <td>0.015647</td>\n",
       "      <td>1.000000</td>\n",
       "      <td>-0.005667</td>\n",
       "      <td>-0.015428</td>\n",
       "    </tr>\n",
       "    <tr>\n",
       "      <th>Trihalomethanes</th>\n",
       "      <td>0.018278</td>\n",
       "      <td>-0.015400</td>\n",
       "      <td>-0.015668</td>\n",
       "      <td>0.014990</td>\n",
       "      <td>-0.023347</td>\n",
       "      <td>0.004888</td>\n",
       "      <td>-0.005667</td>\n",
       "      <td>1.000000</td>\n",
       "      <td>-0.020497</td>\n",
       "    </tr>\n",
       "    <tr>\n",
       "      <th>Turbidity</th>\n",
       "      <td>-0.035849</td>\n",
       "      <td>-0.034831</td>\n",
       "      <td>0.019409</td>\n",
       "      <td>0.013137</td>\n",
       "      <td>-0.009934</td>\n",
       "      <td>0.012495</td>\n",
       "      <td>-0.015428</td>\n",
       "      <td>-0.020497</td>\n",
       "      <td>1.000000</td>\n",
       "    </tr>\n",
       "  </tbody>\n",
       "</table>\n",
       "</div>"
      ],
      "text/plain": [
       "                       ph  Hardness    Solids  Chloramines   Sulfate  \\\n",
       "ph               1.000000  0.108948 -0.087615    -0.024768  0.010524   \n",
       "Hardness         0.108948  1.000000 -0.053269    -0.022685 -0.108521   \n",
       "Solids          -0.087615 -0.053269  1.000000    -0.051789 -0.162769   \n",
       "Chloramines     -0.024768 -0.022685 -0.051789     1.000000  0.006254   \n",
       "Sulfate          0.010524 -0.108521 -0.162769     0.006254  1.000000   \n",
       "Conductivity     0.014128  0.011731 -0.005198    -0.028277 -0.016192   \n",
       "Organic_carbon   0.028375  0.013224 -0.005484    -0.023808  0.026776   \n",
       "Trihalomethanes  0.018278 -0.015400 -0.015668     0.014990 -0.023347   \n",
       "Turbidity       -0.035849 -0.034831  0.019409     0.013137 -0.009934   \n",
       "\n",
       "                 Conductivity  Organic_carbon  Trihalomethanes  Turbidity  \n",
       "ph                   0.014128        0.028375         0.018278  -0.035849  \n",
       "Hardness             0.011731        0.013224        -0.015400  -0.034831  \n",
       "Solids              -0.005198       -0.005484        -0.015668   0.019409  \n",
       "Chloramines         -0.028277       -0.023808         0.014990   0.013137  \n",
       "Sulfate             -0.016192        0.026776        -0.023347  -0.009934  \n",
       "Conductivity         1.000000        0.015647         0.004888   0.012495  \n",
       "Organic_carbon       0.015647        1.000000        -0.005667  -0.015428  \n",
       "Trihalomethanes      0.004888       -0.005667         1.000000  -0.020497  \n",
       "Turbidity            0.012495       -0.015428        -0.020497   1.000000  "
      ]
     },
     "execution_count": 10,
     "metadata": {},
     "output_type": "execute_result"
    }
   ],
   "source": [
    "x=data.corr()\n",
    "x"
   ]
  },
  {
   "cell_type": "markdown",
   "id": "8d5f72ae",
   "metadata": {},
   "source": [
    "Creating a model"
   ]
  },
  {
   "cell_type": "code",
   "execution_count": 11,
   "id": "c6a8adcb",
   "metadata": {},
   "outputs": [],
   "source": [
    "y=data['ph']\n",
    "x=data.drop(['ph'],axis=1)"
   ]
  },
  {
   "cell_type": "code",
   "execution_count": 12,
   "id": "c7568615",
   "metadata": {},
   "outputs": [
    {
     "data": {
      "text/plain": [
       "(2011, 8)"
      ]
     },
     "execution_count": 12,
     "metadata": {},
     "output_type": "execute_result"
    }
   ],
   "source": [
    "x.shape"
   ]
  },
  {
   "cell_type": "code",
   "execution_count": 13,
   "id": "40c1f9b2",
   "metadata": {},
   "outputs": [],
   "source": [
    "from sklearn.model_selection import train_test_split\n",
    "x_train,x_test,y_train,y_test=train_test_split(x,y,random_state=42,test_size=0.25)"
   ]
  },
  {
   "cell_type": "code",
   "execution_count": 23,
   "id": "c4c67b85",
   "metadata": {},
   "outputs": [],
   "source": [
    "from sklearn import linear_model\n",
    "lr=linear_model.LinearRegression()\n",
    "model=lr.fit(x_train,y_train)\n",
    "predictions=model.predict(x_test)"
   ]
  },
  {
   "cell_type": "code",
   "execution_count": 26,
   "id": "cb276747",
   "metadata": {},
   "outputs": [
    {
     "name": "stdout",
     "output_type": "stream",
     "text": [
      "1317     8.157518\n",
      "526      8.296344\n",
      "393      6.576845\n",
      "1405     7.606067\n",
      "433      5.393346\n",
      "          ...    \n",
      "534      4.692197\n",
      "755      8.151249\n",
      "1988     5.910540\n",
      "1364     5.574756\n",
      "408     10.015189\n",
      "Name: ph, Length: 503, dtype: float64\n"
     ]
    }
   ],
   "source": [
    "print(y_test)"
   ]
  },
  {
   "cell_type": "code",
   "execution_count": 25,
   "id": "01903ba4",
   "metadata": {},
   "outputs": [
    {
     "name": "stdout",
     "output_type": "stream",
     "text": [
      "[7.28452049 6.92439307 6.92057022 7.46408997 6.92819299 6.82777995\n",
      " 6.78792957 7.22226232 7.1667385  7.45104848 7.20113193 7.60556281\n",
      " 7.1994104  7.0431868  6.66569816 6.63674649 7.31848411 6.94217299\n",
      " 6.73447042 7.00903383 7.30986254 6.94428054 6.72314327 7.10493339\n",
      " 6.80250218 6.95667852 7.0086543  6.98108173 6.8324206  7.34739224\n",
      " 7.03983135 6.82846996 7.26177799 7.40447391 7.26853196 7.11512385\n",
      " 7.32577447 6.61243671 6.92113599 6.91761526 7.31187065 6.77601327\n",
      " 7.59583404 7.27488837 6.70045971 6.92010383 7.11370174 7.27129882\n",
      " 7.06749918 6.99894394 6.91220671 6.90267449 7.24115227 7.30442214\n",
      " 7.21496375 6.70643701 7.18854113 7.2988329  7.30387378 6.92617893\n",
      " 7.13843541 7.04924021 6.81452573 7.20469935 6.87740777 6.92490624\n",
      " 7.05057544 7.26243109 6.91992663 7.30080956 6.80710889 6.70594041\n",
      " 7.09300396 6.96890535 7.44629654 7.11071859 7.13418097 7.11873997\n",
      " 7.04704423 7.24467025 6.91646575 7.29821968 6.94482236 6.83042092\n",
      " 6.77432987 6.67625857 7.19170583 7.04249148 7.1181815  7.2356527\n",
      " 7.19763697 7.04323576 7.32460579 6.80119734 7.18272335 6.73706244\n",
      " 6.99763122 7.08559724 7.14087678 6.90680223 6.69906562 7.1639922\n",
      " 6.93804199 7.03436299 7.49133785 6.76669525 7.43384853 7.17222228\n",
      " 6.82153668 6.82530164 6.73503431 7.12229666 6.8348578  7.17696523\n",
      " 7.12097253 7.06269647 6.95559202 6.91813704 7.12442661 7.25211291\n",
      " 6.85397105 6.94737345 7.51972695 7.47569319 6.95289458 7.25666687\n",
      " 7.02119728 7.17880843 6.94543854 7.19084068 6.80054307 7.12999275\n",
      " 7.15963936 6.60475487 7.2617978  6.54210378 6.9932256  7.44353285\n",
      " 6.75385953 6.7280015  7.48232558 6.97553226 6.98672063 7.00717103\n",
      " 7.14321632 6.9707183  6.85016641 7.0604996  6.94207373 7.26290214\n",
      " 6.77470074 7.03503839 7.08704405 7.23441838 7.33645395 7.39035721\n",
      " 7.04422817 7.26062696 7.24576601 7.02150634 6.96173228 7.41825244\n",
      " 7.23162823 6.89857736 7.24876549 7.08882425 7.06169767 6.84135923\n",
      " 6.97588303 6.80521269 7.15578019 6.94904062 7.20190235 6.89038795\n",
      " 7.09925138 7.30232547 7.05967582 7.85244897 7.18819542 7.06596058\n",
      " 7.04018714 7.41971258 7.27888751 7.46158485 6.65339033 7.14732628\n",
      " 7.26734201 6.96200319 7.09749107 7.19633889 6.56951505 6.98168374\n",
      " 6.93306114 7.26452285 7.11460081 7.17780528 7.03133085 6.99853399\n",
      " 7.06010963 7.03827966 6.96080047 6.65474604 7.78177245 6.9016835\n",
      " 6.87664566 6.82967013 6.97032503 6.71217133 7.44944614 7.16546268\n",
      " 6.76736892 7.11577693 6.60468535 7.19764382 6.9076756  7.21033139\n",
      " 6.64734529 7.17209862 7.22526729 7.00442636 7.16335706 6.75037199\n",
      " 6.87638542 6.80109747 6.80007392 7.19379294 6.91437963 6.87247996\n",
      " 6.86213494 7.24504562 6.69300338 6.94736528 6.74315006 6.68303389\n",
      " 7.06170453 7.22877568 6.95422324 6.78071719 6.96466635 6.29782489\n",
      " 7.12810043 7.12066396 7.13758543 7.33834692 7.16302486 7.25655821\n",
      " 6.86127772 7.06439591 7.31650557 7.29775806 7.10167863 6.9993577\n",
      " 6.81262113 7.06884803 7.19326206 6.54439158 7.0078539  6.92380193\n",
      " 7.00326999 7.36368124 7.29213076 7.09064747 7.31946856 7.39062757\n",
      " 6.75587623 7.26693642 7.06473578 7.18716797 6.79843094 7.36181284\n",
      " 6.70448253 7.24966467 6.74944497 7.2492568  6.98145599 6.83864366\n",
      " 7.04620205 7.07368524 7.89613215 7.08552316 7.27259165 7.40403409\n",
      " 6.72932979 6.64620338 7.03854013 6.94090586 6.98879796 7.09447926\n",
      " 7.30134414 6.98643994 6.7784234  6.97183347 7.15306833 7.49054571\n",
      " 6.50774143 7.60488017 6.84780587 6.38123176 7.0391756  7.17126757\n",
      " 7.468175   7.07732323 7.0268757  7.10260827 6.91272725 6.95768279\n",
      " 7.05575543 6.90022928 6.80238327 7.38533815 6.96747389 6.82295515\n",
      " 7.12855566 6.8926717  7.05265669 7.1845458  7.3127271  7.75944011\n",
      " 7.22501162 7.01834702 7.16796064 7.54767762 6.95114848 6.81142382\n",
      " 6.94141223 7.36463207 6.77715943 7.24778036 6.86449083 7.27524865\n",
      " 6.94880607 7.04717379 6.61826412 6.8204541  7.13015138 7.03015501\n",
      " 7.06379571 6.9097597  7.01348808 7.33924123 7.33726645 7.21876817\n",
      " 7.27583523 6.88935763 6.63402937 7.09123896 7.55264472 7.12563983\n",
      " 6.74833015 7.09573102 6.76516735 6.88437764 6.71577591 7.1344856\n",
      " 6.69740541 6.74311432 7.00442972 6.74963903 7.28680245 7.22654356\n",
      " 7.07090796 6.95893311 6.69092875 6.68565534 6.7491042  7.02261782\n",
      " 7.22909698 7.35086294 7.23521839 7.14879999 6.95756037 6.99108929\n",
      " 7.06758737 7.11134692 6.88756717 7.30749403 7.02808991 7.4452323\n",
      " 7.29301128 7.2545537  7.4137656  7.0238253  7.1932077  6.90781209\n",
      " 7.35933194 6.63012871 6.84676504 7.06806941 6.97103085 6.83167624\n",
      " 7.11698053 7.15963255 6.99881692 6.9265545  6.81033699 7.35388459\n",
      " 7.22792214 6.62287992 7.34887565 6.86343627 6.8644037  6.69235615\n",
      " 7.29337176 7.21246587 7.19486266 6.54545006 7.0754663  6.84984351\n",
      " 7.11012072 7.14860228 7.04393536 6.71196183 7.0097753  7.04172693\n",
      " 7.44251595 7.38854646 7.52451058 6.89921268 7.13911    7.03340126\n",
      " 7.67190003 6.90364149 7.45028534 6.11379185 6.93857748 7.00149782\n",
      " 6.76421663 7.14302221 6.75011918 7.25658134 6.82142155 7.0060889\n",
      " 7.03754325 7.20028431 7.02770632 6.85294847 6.82757445 6.89500581\n",
      " 6.98580837 7.06867927 7.48390532 6.96160871 7.07769632 7.41602877\n",
      " 7.04815914 6.8253457  7.02611539 6.96743092 7.31389573 6.951888\n",
      " 6.8692194  6.42641563 7.31959313 6.77959755 7.03318076 6.9738752\n",
      " 6.98063539 6.8559764  6.6873155  6.93514531 7.20759778 6.7433945\n",
      " 7.13788938 6.97192817 6.80242272 7.25353354 6.91927255 6.88626404\n",
      " 6.6891515  7.27699435 7.28304207 7.77732296 7.10467362 7.24869734\n",
      " 6.93717955 7.10681936 6.94722293 7.12529734 7.14898691 7.0617384\n",
      " 7.76072533 6.8397286  7.03343375 7.11125208 6.95139279 7.11244946\n",
      " 7.0361912  7.08952234 7.14818978 7.08942553 7.18636425 6.89741719\n",
      " 7.13433552 7.30359782 7.1002082  7.09235569 6.5714112  6.81245925\n",
      " 7.03870649 7.32129844 7.35304083 7.05267715 7.36986143]\n"
     ]
    }
   ],
   "source": [
    "print(predictions)"
   ]
  },
  {
   "cell_type": "code",
   "execution_count": 16,
   "id": "af4be183",
   "metadata": {},
   "outputs": [],
   "source": [
    "from sklearn.metrics import mean_squared_error"
   ]
  },
  {
   "cell_type": "code",
   "execution_count": 28,
   "id": "858b930c",
   "metadata": {},
   "outputs": [
    {
     "name": "stdout",
     "output_type": "stream",
     "text": [
      "MSE is 2.5589853569884182\n"
     ]
    }
   ],
   "source": [
    "print('MSE is',mean_squared_error(y_test,predictions))"
   ]
  },
  {
   "cell_type": "code",
   "execution_count": null,
   "id": "206409c8",
   "metadata": {},
   "outputs": [],
   "source": [
    "We get the MSE as 2.55 ie,the difference between the observed and predicted value is 2.55"
   ]
  },
  {
   "cell_type": "markdown",
   "id": "ff1148a5",
   "metadata": {},
   "source": [
    "4.To check the correlation between the factors \n",
    "  a.ph and chloramines"
   ]
  },
  {
   "cell_type": "code",
   "execution_count": 35,
   "id": "6780b2d9",
   "metadata": {},
   "outputs": [
    {
     "name": "stdout",
     "output_type": "stream",
     "text": [
      "Pearson correlation:-0.025\n"
     ]
    }
   ],
   "source": [
    "from scipy.stats import pearsonr\n",
    "ph=data['ph']\n",
    "Chloramines=data['Chloramines']\n",
    "Pearsonr_coefficient,P_value=pearsonr(ph,Chloramines)\n",
    "print('Pearson correlation:%0.3f'%(Pearsonr_coefficient))"
   ]
  },
  {
   "cell_type": "markdown",
   "id": "3039b21a",
   "metadata": {},
   "source": [
    "The factors ph and chloramines have low negative correlation since it's value is less than -0.5"
   ]
  },
  {
   "cell_type": "markdown",
   "id": "00c67106",
   "metadata": {},
   "source": [
    "  b.ph and Conductivity"
   ]
  },
  {
   "cell_type": "code",
   "execution_count": 38,
   "id": "2dc74e12",
   "metadata": {},
   "outputs": [
    {
     "name": "stdout",
     "output_type": "stream",
     "text": [
      "Pearson correlation:0.014\n"
     ]
    }
   ],
   "source": [
    "from scipy.stats import pearsonr\n",
    "ph=data['ph']\n",
    "Conductivity=data['Conductivity']\n",
    "Pearsonr_coefficient,P_value=pearsonr(ph,Conductivity)\n",
    "print('Pearson correlation:%0.3f'%(Pearsonr_coefficient))"
   ]
  },
  {
   "cell_type": "code",
   "execution_count": null,
   "id": "633aee2f",
   "metadata": {},
   "outputs": [],
   "source": [
    "There is a low positive correlation between the factors ph and conductivity since it's value is less than 0.5."
   ]
  }
 ],
 "metadata": {
  "kernelspec": {
   "display_name": "Python 3",
   "language": "python",
   "name": "python3"
  },
  "language_info": {
   "codemirror_mode": {
    "name": "ipython",
    "version": 3
   },
   "file_extension": ".py",
   "mimetype": "text/x-python",
   "name": "python",
   "nbconvert_exporter": "python",
   "pygments_lexer": "ipython3",
   "version": "3.8.8"
  }
 },
 "nbformat": 4,
 "nbformat_minor": 5
}
